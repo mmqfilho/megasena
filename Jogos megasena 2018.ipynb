{
 "cells": [
  {
   "cell_type": "code",
   "execution_count": 1,
   "metadata": {},
   "outputs": [],
   "source": [
    "import pandas as pd\n",
    "import numpy as np\n",
    "import collections\n",
    "%matplotlib inline\n",
    "\n",
    "df = pd.read_csv('jogos_megasena_2018.csv', sep=';')"
   ]
  },
  {
   "cell_type": "code",
   "execution_count": 2,
   "metadata": {},
   "outputs": [],
   "source": [
    "#numeros sorteados\n",
    "sorteado = [5,10,12,18,25,33]"
   ]
  },
  {
   "cell_type": "code",
   "execution_count": 4,
   "metadata": {},
   "outputs": [
    {
     "name": "stdout",
     "output_type": "stream",
     "text": [
      "GANHOU - achou  3  numeros em [ 5 10 17 23 33 42 53 54]\n",
      "GANHOU - achou  3  numeros em [12 13 18 24 25 38 41 43]\n",
      "GANHOU - achou  3  numeros em [ 5 12 18 32 35 46 52 60]\n",
      "GANHOU - achou  3  numeros em [ 4  8 10 12 24 33 37 51]\n",
      "GANHOU - achou  3  numeros em [ 3 10 13 25 33 46 51 53]\n"
     ]
    }
   ],
   "source": [
    "arr = df.values\n",
    "\n",
    "for i in arr:\n",
    "    encontrado = 0\n",
    "    for s in sorteado:\n",
    "        if s in i:\n",
    "            encontrado = encontrado + 1\n",
    "    if encontrado >= 4:\n",
    "        print('GANHOU - achou ', encontrado, ' numeros em', i)\n"
   ]
  }
 ],
 "metadata": {
  "kernelspec": {
   "display_name": "Python 3",
   "language": "python",
   "name": "python3"
  },
  "language_info": {
   "codemirror_mode": {
    "name": "ipython",
    "version": 3
   },
   "file_extension": ".py",
   "mimetype": "text/x-python",
   "name": "python",
   "nbconvert_exporter": "python",
   "pygments_lexer": "ipython3",
   "version": "3.7.3"
  }
 },
 "nbformat": 4,
 "nbformat_minor": 2
}
